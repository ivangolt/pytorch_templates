{
 "cells": [
  {
   "cell_type": "markdown",
   "metadata": {},
   "source": [
    "# Tranformer"
   ]
  },
  {
   "cell_type": "code",
   "execution_count": 1,
   "metadata": {},
   "outputs": [],
   "source": [
    "import torch\n",
    "import torch.nn as nn\n",
    "import math\n",
    "import torch.nn.functional as F"
   ]
  },
  {
   "cell_type": "markdown",
   "metadata": {},
   "source": [
    "## 1. Механизм внимания (Scaled Dot-Product Attention)"
   ]
  },
  {
   "cell_type": "code",
   "execution_count": 6,
   "metadata": {},
   "outputs": [],
   "source": [
    "class ScaledDotProductAttention(nn.Module):\n",
    "    \"\"\"Attention\"\"\"\n",
    "\n",
    "    def __init__(self, d_k):\n",
    "        \"\"\"Args:\n",
    "        d_k (_type_): Размерность ключа\n",
    "        \"\"\"\n",
    "        super(ScaledDotProductAttention, self).__init__()\n",
    "        self.d_k = d_k\n",
    "\n",
    "    def forward(self, Q, K, V, mask=None):\n",
    "        # Скалярное произведение Q и K\n",
    "        scores = torch.matmul(Q, K.transponse(-2, -1)) / math.sqrt(self.d_k)\n",
    "\n",
    "        # Применяем маску, если она есть\n",
    "        if mask is not None:\n",
    "            scores = scores.masked_fill(mask == 0, -1e9)\n",
    "\n",
    "        attention = F.softmax(scores, dim=-1)\n",
    "\n",
    "        # Скалярное произведение attention и V\n",
    "        output = torch.matmul(attention, V)\n",
    "        return output, attention"
   ]
  },
  {
   "cell_type": "markdown",
   "metadata": {},
   "source": [
    "## Multihead attention"
   ]
  },
  {
   "cell_type": "code",
   "execution_count": 7,
   "metadata": {},
   "outputs": [],
   "source": [
    "import torch.nn as nn\n",
    "\n",
    "\n",
    "class MultiHeadAttention(nn.Module):\n",
    "    \"\"\"Multi-head attention\"\"\"\n",
    "\n",
    "    def __init__(self, d_model, num_heads):\n",
    "        super(MultiHeadAttention, self).__init__()\n",
    "        self.d_model = d_model\n",
    "        self.num_heada = num_heads\n",
    "        self.d_k = d_model // num_heads\n",
    "\n",
    "        self.query = nn.Linear(d_model, d_model)\n",
    "        self.key = nn.Linear(d_model, d_model)\n",
    "        self.value = nn.Linear(d_model, d_model)\n",
    "\n",
    "        self.fc_out = nn.Linear(d_model, d_model)\n",
    "\n",
    "    def forward(Q, K, V, mask=None):\n",
    "        batch_size = Q.shape[0]\n",
    "\n",
    "        # Линейные преобразования для Q, K, V.\n",
    "        Q = self.query(Q).view(batch_size, -1, self.num_heads, self.d_k).transpose(1, 2)\n",
    "        V = self.query(V).view(batch_size, -1, self.num_heads, self.d_k).transpose(1, 2)\n",
    "        K = self.query(K).view(batch_size, -1, self.num_heads, self.d_k).transpose(1, 2)\n",
    "\n",
    "        # Применим механизм внимания\n",
    "        attn_output, _ = ScaledDotProductAttention(self.d_k)(Q, K, V, mask)\n",
    "\n",
    "        # Объединяем головы\n",
    "        attn_output = (\n",
    "            attn_output.transpose(1, 2).contiguous().view(batch_size, -1, self.d_model)\n",
    "        )\n",
    "        output = self.fc_out(attn_output)\n",
    "        return output"
   ]
  },
  {
   "cell_type": "markdown",
   "metadata": {},
   "source": [
    "## Positional encoding"
   ]
  },
  {
   "cell_type": "code",
   "execution_count": 8,
   "metadata": {},
   "outputs": [],
   "source": [
    "class PositionalEncoding(nn.Module):\n",
    "    def __init__(self, d_model, max_length=5000):\n",
    "        super(PositionalEncoding, self).__init__()\n",
    "\n",
    "        self.d_model = d_model\n",
    "\n",
    "        # Create a matrix of max_len x d_model\n",
    "        pe = torch.zeros(max_len, d_model)\n",
    "        position = torch.arrange(0, max_length, dtype=torch.float).unsqueeze(1)\n",
    "        div_term = torch.exp(\n",
    "            torch.arrange(0, d_model, 2).float() * (-math.log(10000.0) / d_model)\n",
    "        )\n",
    "        pe[:, 0::2] = torch.sin(position * div_term)\n",
    "        pe[:, 1::2] = torch.cos(position * div_term)\n",
    "\n",
    "        pe = pe.unsqueeze(0)\n",
    "        self.register_buffer(\"pe\", pe)\n",
    "\n",
    "        def forward(self, x):\n",
    "            # Добавляем позиционные коды к эмбеддингам токенов\n",
    "            x = x + self.pe[:, : x.size(1)]\n",
    "            return x"
   ]
  },
  {
   "cell_type": "markdown",
   "metadata": {},
   "source": [
    "# Feed forward"
   ]
  },
  {
   "cell_type": "code",
   "execution_count": null,
   "metadata": {},
   "outputs": [],
   "source": [
    "class FeedForward(nn.Module):\n",
    "    def __init__(self, d_model, d_ff=2048, dropout=0.1):\n",
    "        super(FeedForward, self).__init__()\n",
    "        self.linear1 = nn.Linear(d_model, d_ff)\n",
    "        self.dropout = nn.Dropout(dropout)\n",
    "        self.linear2 = nn.Linear(d_ff, d_model)\n",
    "\n",
    "    def forward(self, x):\n",
    "        x = self.dropout(torch.relu(self.linear1(x)))\n",
    "        x = self.linear2(x)\n",
    "        return x\n"
   ]
  },
  {
   "cell_type": "markdown",
   "metadata": {},
   "source": [
    "# Add & Norm Layer\n",
    "normalize the outputs and apply residual connections."
   ]
  },
  {
   "cell_type": "code",
   "execution_count": null,
   "metadata": {},
   "outputs": [],
   "source": [
    "class AddNorm(nn.Module):\n",
    "    def __init__(self, d_model, dropout=0.1):\n",
    "        super(AddNorm, self).__init__()\n",
    "        self.norm = nn.LayerNorm(d_model)\n",
    "        self.dropout = nn.Dropout(dropout)\n",
    "\n",
    "    def forward(self, x, sublayer):\n",
    "        return x + self.dropout(self.norm(sublayer(x)))\n"
   ]
  },
  {
   "cell_type": "markdown",
   "metadata": {},
   "source": [
    "# Encoder layer"
   ]
  },
  {
   "cell_type": "markdown",
   "metadata": {},
   "source": [
    "combine the components to build the encoder layer, which consists of multi-head attention, add & norm, and feed-forward networks."
   ]
  },
  {
   "cell_type": "code",
   "execution_count": null,
   "metadata": {},
   "outputs": [],
   "source": [
    "class EncoderLayer(nn.Module):\n",
    "    def __init__(self, d_model, num_heads, d_ff, dropout=0.1):\n",
    "        super(EncoderLayer, self).__init__()\n",
    "        self.attention = MultiHeadAttention(d_model, num_heads)\n",
    "        self.ffn = FeedForward(d_model, d_ff, dropout)\n",
    "        self.add_norm1 = AddNorm(d_model, dropout)\n",
    "        self.add_norm2 = AddNorm(d_model, dropout)\n",
    "\n",
    "    def forward(self, x, mask=None):\n",
    "        # Multi-head attention and Add & Norm\n",
    "        x = self.add_norm1(x, lambda x: self.attention(x, x, x, mask))\n",
    "        # Feed-forward and Add & Norm\n",
    "        x = self.add_norm2(x, self.ffn)\n",
    "        return x\n"
   ]
  },
  {
   "cell_type": "markdown",
   "metadata": {},
   "source": [
    "# Decoder layer"
   ]
  },
  {
   "cell_type": "code",
   "execution_count": null,
   "metadata": {},
   "outputs": [],
   "source": [
    "class DecoderLayer(nn.Module):\n",
    "    def __init__(self, d_model, num_heads, dim_ff, dropout=0.1):\n",
    "        super(DecoderLayer, self).__init__()\n",
    "        self.attention1 = MultiHeadAttention(d_model, num_heads)\n",
    "        self.attention2 = MultiHeadAttention(d_model, num_heads)\n",
    "        self.ffn = FeedForward(d_model, dim_ff, dropout)\n",
    "        self.add_norm1 = AddNorm(d_model, dropout)\n",
    "        self.add_norm2 = AddNorm(d_model, dropout)\n",
    "        self.add_norm3 = AddNorm(d_model, dropout)\n",
    "\n",
    "    def forward(self, x, enc_output, src_mask=None, tgt_mask=None):\n",
    "        # Masked multi-head attention (self-attention for decoder)\n",
    "        x = self.add_norm1(x, lambda x: self.masked_attention(x, x, x, tgt_mask))\n",
    "\n",
    "        # Encoder-Decoder multi-head attention (attending to encoder output)\n",
    "        x = self.add_norm2(\n",
    "            x, lambda x: self.enc_dec_attention(x, enc_output, enc_output, src_mask)\n",
    "        )\n",
    "\n",
    "        # Feed-forward and Add & Norm\n",
    "        x = self.add_norm3(x, self.ffn)\n",
    "\n",
    "        return x\n"
   ]
  },
  {
   "cell_type": "markdown",
   "metadata": {},
   "source": [
    "# Encoder"
   ]
  },
  {
   "cell_type": "markdown",
   "metadata": {},
   "source": [
    "Encoder consists of multiple encoder layers stacked together."
   ]
  },
  {
   "cell_type": "code",
   "execution_count": null,
   "metadata": {},
   "outputs": [],
   "source": []
  },
  {
   "cell_type": "code",
   "execution_count": null,
   "metadata": {},
   "outputs": [],
   "source": []
  },
  {
   "cell_type": "code",
   "execution_count": null,
   "metadata": {},
   "outputs": [],
   "source": []
  },
  {
   "cell_type": "code",
   "execution_count": null,
   "metadata": {},
   "outputs": [],
   "source": []
  },
  {
   "cell_type": "code",
   "execution_count": null,
   "metadata": {},
   "outputs": [],
   "source": []
  }
 ],
 "metadata": {
  "kernelspec": {
   "display_name": ".venv",
   "language": "python",
   "name": "python3"
  },
  "language_info": {
   "codemirror_mode": {
    "name": "ipython",
    "version": 3
   },
   "file_extension": ".py",
   "mimetype": "text/x-python",
   "name": "python",
   "nbconvert_exporter": "python",
   "pygments_lexer": "ipython3",
   "version": "3.11.8"
  }
 },
 "nbformat": 4,
 "nbformat_minor": 2
}
