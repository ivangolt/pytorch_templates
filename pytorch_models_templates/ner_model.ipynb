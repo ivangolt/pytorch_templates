{
 "cells": [
  {
   "cell_type": "code",
   "execution_count": 1,
   "metadata": {},
   "outputs": [],
   "source": [
    "import spacy"
   ]
  },
  {
   "cell_type": "code",
   "execution_count": 2,
   "metadata": {},
   "outputs": [],
   "source": [
    "nlp_vocabulary = spacy.load(\"en_core_web_sm\")\n"
   ]
  },
  {
   "cell_type": "code",
   "execution_count": 3,
   "metadata": {},
   "outputs": [],
   "source": [
    "text = \"Apple is looking at buying U.K. startup for $1 billion. Tim Cook is the CEO of Apple.\""
   ]
  },
  {
   "cell_type": "code",
   "execution_count": 5,
   "metadata": {},
   "outputs": [
    {
     "data": {
      "text/plain": [
       "Apple is looking at buying U.K. startup for $1 billion. Tim Cook is the CEO of Apple."
      ]
     },
     "execution_count": 5,
     "metadata": {},
     "output_type": "execute_result"
    }
   ],
   "source": [
    "doc = nlp_vocabulary(text)\n",
    "doc"
   ]
  },
  {
   "cell_type": "code",
   "execution_count": 6,
   "metadata": {},
   "outputs": [
    {
     "name": "stdout",
     "output_type": "stream",
     "text": [
      "Text: Apple, Label: ORG\n",
      "Text: U.K., Label: GPE\n",
      "Text: $1 billion, Label: MONEY\n",
      "Text: Tim Cook, Label: PERSON\n",
      "Text: Apple, Label: ORG\n"
     ]
    }
   ],
   "source": [
    "for entity in doc.ents:\n",
    "    print(f\"Text: {entity.text}, Label: {entity.label_}\")"
   ]
  },
  {
   "cell_type": "code",
   "execution_count": 7,
   "metadata": {},
   "outputs": [
    {
     "name": "stdout",
     "output_type": "stream",
     "text": [
      "Entity Text                    Entity Label   \n",
      "---------------------------------------------\n",
      "John Doe\n",
      "                      PERSON         \n",
      "Software Engineer              ORG            \n",
      "San Francisco                  GPE            \n",
      "CA                             GPE            \n",
      "john.doe@example.com           PERSON         \n",
      "555                            CARDINAL       \n",
      "123                            CARDINAL       \n",
      "5+ years                       DATE           \n",
      "Java                           PERSON         \n",
      "JavaScript                     PRODUCT        \n",
      "Software Engineer              ORG            \n",
      "ABC Technologies               ORG            \n",
      "San Francisco                  GPE            \n",
      "CA                             GPE            \n",
      "June 2018                      DATE           \n",
      "1                              CARDINAL       \n",
      "5                              CARDINAL       \n",
      "Docker                         PERSON         \n",
      "Kubernetes                     ORG            \n",
      "AWS                            ORG            \n",
      "third                          ORDINAL        \n",
      "20%                            PERCENT        \n",
      "XYZ Solutions                  ORG            \n",
      "San Jose                       GPE            \n",
      "CA                             PERSON         \n",
      "Jan 2016                       DATE           \n",
      "May 2018                       DATE           \n",
      "Django                         PERSON         \n",
      "Bachelor of Science in Computer Science ORG            \n",
      "Stanford University            ORG            \n",
      "2011 – 2015                    DATE           \n",
      "Java                           PERSON         \n",
      "JavaScript                     PRODUCT        \n",
      "C++\n",
      "- Frameworks & Tools       PERSON         \n",
      "Django                         PERSON         \n",
      "Docker                         GPE            \n",
      "Kubernetes                     ORG            \n",
      "Google Cloud\n",
      "\n",
      "Certifications   ORG            \n",
      "Java SE                        PERSON         \n",
      "8                              CARDINAL       \n"
     ]
    }
   ],
   "source": [
    "import spacy\n",
    "\n",
    "# Load the English language model\n",
    "nlp = spacy.load(\"en_core_web_sm\")\n",
    "\n",
    "# Example resume text\n",
    "resume_text = \"\"\"\n",
    "John Doe\n",
    "Software Engineer\n",
    "San Francisco, CA | john.doe@example.com | (555) 123-4567 | linkedin.com/in/johndoe\n",
    "\n",
    "Summary:\n",
    "Experienced software engineer with 5+ years of experience in full-stack development. Proficient in Java, Python, and JavaScript. Strong background in designing scalable web applications and RESTful services. Passionate about problem-solving and learning new technologies.\n",
    "\n",
    "Experience:\n",
    "Software Engineer | ABC Technologies | San Francisco, CA | June 2018 – Present\n",
    "- Developed and maintained a cloud-based e-commerce platform serving 1 million+ users.\n",
    "- Led a team of 5 engineers to build microservices architecture using Docker, Kubernetes, and AWS.\n",
    "- Integrated third-party APIs and improved system performance by 20%.\n",
    "\n",
    "Junior Software Developer | XYZ Solutions | San Jose, CA | Jan 2016 – May 2018\n",
    "- Worked on backend development with Python and Django framework.\n",
    "- Assisted in migrating legacy systems to modern web-based solutions.\n",
    "- Collaborated with frontend team to enhance UI/UX for customer-facing applications.\n",
    "\n",
    "Education:\n",
    "Bachelor of Science in Computer Science | Stanford University | 2011 – 2015\n",
    "\n",
    "Skills:\n",
    "- Programming Languages: Java, Python, JavaScript, C++\n",
    "- Frameworks & Tools: Django, React, Node.js, Docker, Kubernetes\n",
    "- Databases: PostgreSQL, MongoDB, MySQL\n",
    "- Cloud: AWS, Google Cloud\n",
    "\n",
    "Certifications:\n",
    "- AWS Certified Solutions Architect – Associate\n",
    "- Oracle Certified Professional Java SE 8 Programmer\n",
    "\"\"\"\n",
    "\n",
    "# Process the resume text\n",
    "doc = nlp(resume_text)\n",
    "\n",
    "# Extract named entities from the resume\n",
    "print(f\"{'Entity Text':<30} {'Entity Label':<15}\")\n",
    "print(\"-\" * 45)\n",
    "for ent in doc.ents:\n",
    "    print(f\"{ent.text:<30} {ent.label_:<15}\")\n"
   ]
  },
  {
   "cell_type": "markdown",
   "metadata": {},
   "source": []
  }
 ],
 "metadata": {
  "kernelspec": {
   "display_name": ".venv",
   "language": "python",
   "name": "python3"
  },
  "language_info": {
   "codemirror_mode": {
    "name": "ipython",
    "version": 3
   },
   "file_extension": ".py",
   "mimetype": "text/x-python",
   "name": "python",
   "nbconvert_exporter": "python",
   "pygments_lexer": "ipython3",
   "version": "3.11.8"
  }
 },
 "nbformat": 4,
 "nbformat_minor": 2
}
