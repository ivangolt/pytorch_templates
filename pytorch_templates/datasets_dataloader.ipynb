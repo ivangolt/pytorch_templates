{
 "cells": [
  {
   "cell_type": "code",
   "execution_count": 12,
   "id": "fb07b327-e2a5-45cc-a595-d73f11f2ddb8",
   "metadata": {},
   "outputs": [],
   "source": [
    "import torch\n",
    "from torch.utils.data import Dataset, DataLoader\n",
    "import pandas as pd\n",
    "from sklearn.datasets import make_moons"
   ]
  },
  {
   "cell_type": "code",
   "execution_count": 36,
   "id": "87060114",
   "metadata": {},
   "outputs": [],
   "source": [
    "import os"
   ]
  },
  {
   "cell_type": "code",
   "execution_count": 13,
   "id": "c1315941",
   "metadata": {},
   "outputs": [],
   "source": [
    "X, y = make_moons(n_samples=1000, random_state=42, noise=0.2)"
   ]
  },
  {
   "cell_type": "markdown",
   "id": "4730c7c1",
   "metadata": {},
   "source": [
    "# Dataset\n"
   ]
  },
  {
   "cell_type": "markdown",
   "id": "28962c3b",
   "metadata": {},
   "source": [
    "## make_moons dataset"
   ]
  },
  {
   "cell_type": "code",
   "execution_count": 15,
   "id": "33d40735",
   "metadata": {},
   "outputs": [],
   "source": [
    "class MakeMoonsDataset(Dataset):\n",
    "    \n",
    "    def __init__(self, X, y):\n",
    "        self.X = torch.Tensor(X)\n",
    "        self.y = torch.from_numpy(y).float()\n",
    "\n",
    "    def __len__(self):\n",
    "        return self.X.shape[0]\n",
    "    \n",
    "    def __getitem__(self, index):\n",
    "        return (self.X[index], self.y[index])\n",
    "    \n"
   ]
  },
  {
   "cell_type": "code",
   "execution_count": 16,
   "id": "63814831",
   "metadata": {},
   "outputs": [],
   "source": [
    "train_dataset = MakeMoonsDataset(X=X, y=y)"
   ]
  },
  {
   "cell_type": "code",
   "execution_count": 20,
   "id": "e4cfb642",
   "metadata": {},
   "outputs": [],
   "source": [
    "train_dataloader = DataLoader(dataset=train_dataset, batch_size=4, shuffle=True)"
   ]
  },
  {
   "cell_type": "code",
   "execution_count": 22,
   "id": "3d54c8d5",
   "metadata": {},
   "outputs": [
    {
     "name": "stdout",
     "output_type": "stream",
     "text": [
      "tensor([[ 0.6567, -0.5813],\n",
      "        [ 0.0143,  0.6735],\n",
      "        [-0.4566,  0.9973],\n",
      "        [-0.9992, -0.0458]]) tensor([1., 0., 0., 0.])\n"
     ]
    }
   ],
   "source": [
    "train_features, train_labels = next(iter(train_dataloader))\n",
    "print(train_features, train_labels)"
   ]
  },
  {
   "cell_type": "markdown",
   "id": "cd254d24",
   "metadata": {},
   "source": [
    "## wine dataset"
   ]
  },
  {
   "cell_type": "code",
   "execution_count": 33,
   "id": "59057b6e",
   "metadata": {},
   "outputs": [],
   "source": [
    "class WineDataset(Dataset):\n",
    "\n",
    "    def __init__(self, path):\n",
    "        dataset = pd.read_csv(path)\n",
    "        self.X = torch.Tensor(dataset[\"Wine\"].values)\n",
    "        self.y = torch.from_numpy(dataset.drop(columns=[\"Wine\"]).values).float()\n",
    "        self.shape = dataset.shape[0]\n",
    "\n",
    "    def __len__(self):\n",
    "        return self.shape\n",
    "    \n",
    "    def __getitem__(self, index):\n",
    "        return (self.X[index], self.y[index])"
   ]
  },
  {
   "cell_type": "code",
   "execution_count": 34,
   "id": "065642c9",
   "metadata": {},
   "outputs": [],
   "source": [
    "train_wine_dataset = WineDataset(path=\"../data/regression_task/wine.csv\")"
   ]
  },
  {
   "cell_type": "code",
   "execution_count": 35,
   "id": "fef04c00",
   "metadata": {},
   "outputs": [
    {
     "name": "stdout",
     "output_type": "stream",
     "text": [
      "tensor([[ 0.0371,  0.1690],\n",
      "        [ 1.0732, -0.5587],\n",
      "        [ 0.6316,  0.5278],\n",
      "        [-0.9901,  0.3891]]) tensor([1., 1., 0., 0.])\n"
     ]
    }
   ],
   "source": [
    "train_wine_dataloader = DataLoader(dataset=train_wine_dataset, batch_size=4, shuffle=True)\n",
    "train_features, train_labels = next(iter(train_dataloader))\n",
    "print(train_features, train_labels)"
   ]
  },
  {
   "cell_type": "markdown",
   "id": "afbecd82",
   "metadata": {},
   "source": [
    "## mnist dataset"
   ]
  },
  {
   "cell_type": "markdown",
   "id": "a3fc4975",
   "metadata": {},
   "source": [
    "dataset : https://github.com/DeepTrackAI/MNIST_dataset/tree/main/mnist"
   ]
  },
  {
   "cell_type": "code",
   "execution_count": 48,
   "id": "b726e51f",
   "metadata": {},
   "outputs": [],
   "source": [
    "import os\n",
    "from torchvision.io import read_image\n",
    "\n",
    "class MnistDataset(Dataset):\n",
    "\n",
    "    def __init__(self, path, transform=None):\n",
    "        self.path = path\n",
    "        self.transform = transform\n",
    "        self.image_files = []\n",
    "        self.labels = []\n",
    "\n",
    "\n",
    "    \n",
    "        for filename in os.listdir(path=path):\n",
    "            if filename.endswith(\".png\"):\n",
    "                label = filename[0]\n",
    "                self.image_files.append(filename)\n",
    "                self.labels.append(label)\n",
    "\n",
    "\n",
    "    def __len__(self):\n",
    "        return(len(self.image_files))\n",
    "\n",
    "    def __getitem__(self, index):\n",
    "\n",
    "        image_path = os.path.join(self.path, self.image_files[index])\n",
    "        image = read_image(image_path)\n",
    "        label = self.labels[index]\n",
    "\n",
    "        if self.transform:\n",
    "            image = self.transform(image)\n",
    "\n",
    "        return image, label\n",
    "\n"
   ]
  },
  {
   "cell_type": "code",
   "execution_count": 49,
   "id": "d4bb267d",
   "metadata": {},
   "outputs": [],
   "source": [
    "train_mnist_dataset = MnistDataset(path=\"../data/mnist/train\")"
   ]
  },
  {
   "cell_type": "code",
   "execution_count": 52,
   "id": "cd263e76",
   "metadata": {},
   "outputs": [
    {
     "name": "stdout",
     "output_type": "stream",
     "text": [
      "Feature batch shape: torch.Size([1, 1, 28, 28])\n"
     ]
    },
    {
     "data": {
      "image/png": "[encoded data removed]",
      "text/plain": [
       "<Figure size 640x480 with 1 Axes>"
      ]
     },
     "metadata": {},
     "output_type": "display_data"
    },
    {
     "name": "stdout",
     "output_type": "stream",
     "text": [
      "Label: 3\n"
     ]
    }
   ],
   "source": [
    "import matplotlib.pyplot as plt\n",
    "train_mnist_dataloader = DataLoader(dataset=train_mnist_dataset, shuffle=True)\n",
    "# Display image and label.\n",
    "train_features, train_labels = next(iter(train_mnist_dataloader))\n",
    "print(f\"Feature batch shape: {train_features.size()}\")\n",
    "# print(f\"Labels batch shape: {train_labels.size()}\")\n",
    "img = train_features[0].squeeze()\n",
    "label = train_labels[0]\n",
    "plt.imshow(img, cmap=\"gray\")\n",
    "plt.show()\n",
    "print(f\"Label: {label}\")"
   ]
  },
  {
   "cell_type": "code",
   "execution_count": null,
   "id": "39a0b555",
   "metadata": {},
   "outputs": [],
   "source": []
  }
 ],
 "metadata": {
  "kernelspec": {
   "display_name": "Python 3 (ipykernel)",
   "language": "python",
   "name": "python3"
  },
  "language_info": {
   "codemirror_mode": {
    "name": "ipython",
    "version": 3
   },
   "file_extension": ".py",
   "mimetype": "text/x-python",
   "name": "python",
   "nbconvert_exporter": "python",
   "pygments_lexer": "ipython3",
   "version": "3.11.8"
  }
 },
 "nbformat": 4,
 "nbformat_minor": 5
}
