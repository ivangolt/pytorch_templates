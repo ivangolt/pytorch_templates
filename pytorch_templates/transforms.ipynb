{
 "cells": [
  {
   "cell_type": "code",
   "execution_count": 1,
   "metadata": {},
   "outputs": [],
   "source": [
    "import torch\n",
    "from torch.utils.data import Dataset, DataLoader\n",
    "import pandas as pd\n",
    "from sklearn.datasets import make_moons"
   ]
  },
  {
   "cell_type": "code",
   "execution_count": 2,
   "metadata": {},
   "outputs": [],
   "source": [
    "import os\n",
    "from torchvision.io import read_image\n",
    "\n",
    "class MnistDataset(Dataset):\n",
    "\n",
    "    def __init__(self, path, transform=None):\n",
    "        self.path = path\n",
    "        self.transform = transform\n",
    "        self.image_files = []\n",
    "        self.labels = []\n",
    "\n",
    "\n",
    "    \n",
    "        for filename in os.listdir(path=path):\n",
    "            if filename.endswith(\".png\"):\n",
    "                label = filename[0]\n",
    "                self.image_files.append(filename)\n",
    "                self.labels.append(label)\n",
    "\n",
    "\n",
    "    def __len__(self):\n",
    "        return(len(self.image_files))\n",
    "\n",
    "    def __getitem__(self, index):\n",
    "\n",
    "        image_path = os.path.join(self.path, self.image_files[index])\n",
    "        image = read_image(image_path)\n",
    "        label = self.labels[index]\n",
    "\n",
    "        if self.transform:\n",
    "            image = self.transform(image)\n",
    "\n",
    "        return image, label\n",
    "\n"
   ]
  },
  {
   "cell_type": "code",
   "execution_count": 4,
   "metadata": {},
   "outputs": [],
   "source": [
    "from torchvision.transforms import v2\n",
    "\n",
    "transforms = v2.Compose(\n",
    "    [\n",
    "        v2.ToImage(),\n",
    "        v2.ToDtype(torch.float32, scale=True),\n",
    "        v2.Normalize(mean=(0.5, ), std=(0.5, ))\n",
    "    \n",
    "    ]\n",
    ")"
   ]
  },
  {
   "cell_type": "code",
   "execution_count": 5,
   "metadata": {},
   "outputs": [],
   "source": [
    "train_data = MnistDataset(path=\"../data/mnist/train\", transform=transforms)"
   ]
  },
  {
   "cell_type": "code",
   "execution_count": 17,
   "metadata": {},
   "outputs": [
    {
     "name": "stdout",
     "output_type": "stream",
     "text": [
      "img:\n",
      "     <class 'torchvision.tv_tensors._image.Image'>\n",
      "     torch.Size([1, 28, 28])\n",
      "     torch.float32\n",
      "label:\n",
      "     0\n"
     ]
    }
   ],
   "source": [
    "image, label = train_data[4783]\n",
    "\n",
    "print('img:')\n",
    "print(f\"     {type(image)}\")\n",
    "print(f\"     {image.shape}\")\n",
    "print(f\"     {image.dtype}\")\n",
    "print(\"label:\")\n",
    "print(f\"     {label}\")"
   ]
  },
  {
   "cell_type": "code",
   "execution_count": null,
   "metadata": {},
   "outputs": [],
   "source": []
  }
 ],
 "metadata": {
  "kernelspec": {
   "display_name": ".venv",
   "language": "python",
   "name": "python3"
  },
  "language_info": {
   "codemirror_mode": {
    "name": "ipython",
    "version": 3
   },
   "file_extension": ".py",
   "mimetype": "text/x-python",
   "name": "python",
   "nbconvert_exporter": "python",
   "pygments_lexer": "ipython3",
   "version": "3.11.8"
  }
 },
 "nbformat": 4,
 "nbformat_minor": 2
}
